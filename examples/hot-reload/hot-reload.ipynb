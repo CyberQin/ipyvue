{
 "cells": [
  {
   "cell_type": "code",
   "execution_count": null,
   "id": "08b3d099",
   "metadata": {},
   "outputs": [],
   "source": [
    "import ipyvue\n",
    "from mywidget import MyWidget\n",
    "\n",
    "# Uncomment the next line to install the watchdog package\n",
    "# needed for the watch function\n",
    "\n",
    "# !pip install watchdog\n",
    "\n",
    "ipyvue.watch('.')"
   ]
  },
  {
   "cell_type": "code",
   "execution_count": null,
   "id": "bac5035f",
   "metadata": {},
   "outputs": [],
   "source": [
    "mywidget = MyWidget(some_data={\n",
    "    'message': 'Hello',\n",
    "    'items': ['item a', 'item b', 'item c']\n",
    "})\n",
    "mywidget"
   ]
  },
  {
   "cell_type": "code",
   "execution_count": null,
   "id": "1a258159",
   "metadata": {},
   "outputs": [],
   "source": [
    "# Now edit one of the .vue files and see the changes directly without a kernel reload "
   ]
  }
 ],
 "metadata": {
  "kernelspec": {
   "display_name": "Python 3 (ipykernel)",
   "language": "python",
   "name": "python3"
  },
  "language_info": {
   "codemirror_mode": {
    "name": "ipython",
    "version": 3
   },
   "file_extension": ".py",
   "mimetype": "text/x-python",
   "name": "python",
   "nbconvert_exporter": "python",
   "pygments_lexer": "ipython3",
   "version": "3.9.6"
  }
 },
 "nbformat": 4,
 "nbformat_minor": 5
}
